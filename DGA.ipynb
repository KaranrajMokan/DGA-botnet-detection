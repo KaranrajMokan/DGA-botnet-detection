{
 "cells": [
  {
   "cell_type": "code",
   "execution_count": 36,
   "metadata": {},
   "outputs": [],
   "source": [
    "import pandas as pd\n",
    "import re\n",
    "import collections\n",
    "import matplotlib.pyplot as plt\n",
    "import numpy as np\n",
    "from nltk.util import ngrams\n",
    "from sklearn import preprocessing\n",
    "from sklearn.cluster import KMeans\n",
    "from sklearn.cluster import DBSCAN\n",
    "from sklearn.preprocessing import StandardScaler\n",
    "from sklearn.preprocessing import normalize\n",
    "from sklearn.model_selection import train_test_split\n",
    "from sklearn.metrics import mean_squared_error\n",
    "from itertools import chain\n",
    "pd.set_option('display.max_columns', None)"
   ]
  },
  {
   "cell_type": "code",
   "execution_count": 2,
   "metadata": {},
   "outputs": [
    {
     "name": "stdout",
     "output_type": "stream",
     "text": [
      "    UserId                      Domain1  \\\n",
      "0      150  11.117.163.70.in-addr.arpa.   \n",
      "1     3600     117.163.70.in-addr.arpa.   \n",
      "2     3600           ns1.mm.ks.cox.net.   \n",
      "3   172800   236.25.37.81.in-addr.arpa.   \n",
      "4   172800       25.37.81.in-addr.arpa.   \n",
      "5   172800       25.37.81.in-addr.arpa.   \n",
      "6    86400     85.128.179.in-addr.arpa.   \n",
      "7    86400     85.128.179.in-addr.arpa.   \n",
      "8    86400     85.128.179.in-addr.arpa.   \n",
      "9    86400     85.128.179.in-addr.arpa.   \n",
      "10    3600         84.120.in-addr.arpa.   \n",
      "11   86400     224.163.69.in-addr.arpa.   \n",
      "12   86400     224.163.69.in-addr.arpa.   \n",
      "13   86400     224.163.69.in-addr.arpa.   \n",
      "14   47222          57.27.in-addr.arpa.   \n",
      "15   47222          57.27.in-addr.arpa.   \n",
      "16   86400     aaadel.mantraonline.com.   \n",
      "17   86400     aaadel.mantraonline.com.   \n",
      "18   86400     dnsdel.mantraonline.com.   \n",
      "19   86400     dnsdel.mantraonline.com.   \n",
      "\n",
      "                                      Domain  \n",
      "0          mtae448c7100586.mm.ks.ks.cox.net.  \n",
      "1                         ns1.mm.ks.cox.net.  \n",
      "2                              24.248.134.39  \n",
      "3   236.Red-81-37-25.dynamicIP.rima-tde.net.  \n",
      "4                   rsdmno1-14.rima-tde.net.  \n",
      "5                   rsdbgi1-11.rima-tde.net.  \n",
      "6                      COMPRIDO.VIVO.COM.BR.  \n",
      "7                    PINHEIROS2.VIVO.COM.BR.  \n",
      "8                        GUANDU.VIVO.COM.BR.  \n",
      "9                        TIETE2.VIVO.COM.BR.  \n",
      "10                           ns1.cnc-gd.net.  \n",
      "11                        ns3.dreamhost.com.  \n",
      "12                        ns1.dreamhost.com.  \n",
      "13                        ns2.dreamhost.com.  \n",
      "14                  dnsdel.mantraonline.com.  \n",
      "15                  aaadel.mantraonline.com.  \n",
      "16                              202.56.230.6  \n",
      "17                          2404:a800:0:b::9  \n",
      "18                              202.56.230.5  \n",
      "19                          2404:a800:0:b::7  \n"
     ]
    }
   ],
   "source": [
    "data = pd.read_csv(\"dns-traffic.20140614.txt\",nrows=10000,sep=\"\\t\")\n",
    "data.drop(data.columns[[0, 1, 2, 3, 4]], axis=1,inplace=True)\n",
    "data.columns = ['UserId','Domain1','Domain']\n",
    "print(data.head(20))"
   ]
  },
  {
   "cell_type": "code",
   "execution_count": 3,
   "metadata": {},
   "outputs": [
    {
     "name": "stdout",
     "output_type": "stream",
     "text": [
      "    UserId                                   Domain\n",
      "0      150         mtae448c7100586.mm.ks.ks.cox.net\n",
      "1     3600                        ns1.mm.ks.cox.net\n",
      "2     3600                        ns1.mm.ks.cox.net\n",
      "3   172800  236.Red-81-37-25.dynamicIP.rima-tde.net\n",
      "4   172800                  rsdmno1-14.rima-tde.net\n",
      "5   172800                  rsdbgi1-11.rima-tde.net\n",
      "6    86400                     COMPRIDO.VIVO.COM.BR\n",
      "7    86400                   PINHEIROS2.VIVO.COM.BR\n",
      "8    86400                       GUANDU.VIVO.COM.BR\n",
      "9    86400                       TIETE2.VIVO.COM.BR\n",
      "10    3600                           ns1.cnc-gd.net\n",
      "11   86400                        ns3.dreamhost.com\n",
      "12   86400                        ns1.dreamhost.com\n",
      "13   86400                        ns2.dreamhost.com\n",
      "14   47222                  dnsdel.mantraonline.com\n",
      "15   47222                  aaadel.mantraonline.com\n",
      "16   86400                  aaadel.mantraonline.com\n",
      "17   86400                  aaadel.mantraonline.com\n",
      "18   86400                  dnsdel.mantraonline.com\n",
      "19   86400                  dnsdel.mantraonline.com\n"
     ]
    }
   ],
   "source": [
    "for i in range(data['Domain'].shape[0]):\n",
    "    if re.search(\"^\\d{1,3}\\.\\d{1,3}\\.\\d{1,3}\\.\\d{1,3}$\",data['Domain'][i]) or re.search(\":\",data['Domain'][i]):\n",
    "        temp = data['Domain1'][i]\n",
    "        data.loc[i,('Domain')] = temp\n",
    "    if re.search(r\"\\.$\",data['Domain'][i]): \n",
    "        value = data['Domain'][i][:-1]\n",
    "        data.loc[i,('Domain')] = value\n",
    "\n",
    "data.drop(data.columns[1], axis=1,inplace=True)\n",
    "print(data.head(20))"
   ]
  },
  {
   "cell_type": "code",
   "execution_count": 4,
   "metadata": {},
   "outputs": [
    {
     "name": "stdout",
     "output_type": "stream",
     "text": [
      "           Domain\n",
      "1      google.com\n",
      "2     youtube.com\n",
      "3       tmall.com\n",
      "4       baidu.com\n",
      "5          qq.com\n",
      "6        sohu.com\n",
      "7    facebook.com\n",
      "8      taobao.com\n",
      "9          360.cn\n",
      "10         jd.com\n",
      "11      yahoo.com\n",
      "12     amazon.com\n",
      "13    sina.com.cn\n",
      "14  wikipedia.org\n",
      "15      weibo.com\n",
      "16  xinhuanet.com\n",
      "17    netflix.com\n",
      "18     reddit.com\n",
      "19       live.com\n",
      "20     alipay.com\n"
     ]
    }
   ],
   "source": [
    "whiteList = pd.read_csv('top-1m.csv',header=None,names=['Domain'])\n",
    "print(whiteList.head(20))"
   ]
  },
  {
   "cell_type": "code",
   "execution_count": 5,
   "metadata": {},
   "outputs": [
    {
     "name": "stdout",
     "output_type": "stream",
     "text": [
      "The number of remaining domain list 9990\n"
     ]
    }
   ],
   "source": [
    "#DOMAIN FILTERING\n",
    "\n",
    "#1.WhiteList filtering\n",
    "\n",
    "tempList = whiteList.head(100).values\n",
    "actualList=[]\n",
    "for i in tempList:\n",
    "    for j in i:\n",
    "        actualList.append(\"[a-zA-Z0-9]*.\"+j)\n",
    "        \n",
    "reduceList=data.values\n",
    "domainList=[]\n",
    "dataList=[]\n",
    "for i in reduceList:\n",
    "    flag=0\n",
    "    for j in actualList:\n",
    "        if re.search(j,i[1]):\n",
    "            flag=1\n",
    "            break\n",
    "    if flag==0:\n",
    "        domainList.append(list(i)[1])\n",
    "        dataList.append(i)\n",
    "\n",
    "print(\"The number of remaining domain list\",len(domainList))"
   ]
  },
  {
   "cell_type": "code",
   "execution_count": 6,
   "metadata": {},
   "outputs": [
    {
     "name": "stdout",
     "output_type": "stream",
     "text": [
      "[(('.c', 'co'), 740), (('co', 'om'), 711), (('e.', '.c'), 113), (('s.', '.c'), 81), (('n.', '.c'), 63)]\n"
     ]
    },
    {
     "data": {
      "image/png": "[encoded data removed]",
      "text/plain": [
       "<Figure size 432x288 with 1 Axes>"
      ]
     },
     "metadata": {
      "needs_background": "light"
     },
     "output_type": "display_data"
    },
    {
     "name": "stdout",
     "output_type": "stream",
     "text": [
      "The first whiteList domain and its probability\n",
      "google.com   0.5117395944503731\n"
     ]
    }
   ],
   "source": [
    "#n-gram frequencies\n",
    "\n",
    "#FOR WHITELIST\n",
    "tokens = whiteList['Domain'].head(1000)\n",
    "dictionary={}\n",
    "probList=[]\n",
    "for i in tokens:\n",
    "    dumm = [i[j:j+2] for j in range(len(i)-1)]\n",
    "    probList.append(dumm)\n",
    "    bgs = ngrams(dumm,2)\n",
    "    frequencies = collections.Counter(bgs)\n",
    "    for j in frequencies:\n",
    "        if j not in dictionary:\n",
    "            dictionary[j]=frequencies[j]\n",
    "        else:\n",
    "            dictionary[j]+=frequencies[j]\n",
    "            \n",
    "print(collections.Counter(dictionary).most_common(5))\n",
    "\n",
    "keys = list(dictionary.keys())\n",
    "values = list(dictionary.values())\n",
    "\n",
    "total_sum = sum(dictionary.values())\n",
    "probabilities=[]\n",
    "for i in probList:\n",
    "    summation=0\n",
    "    for j in i:\n",
    "        subset_dict = [key for key in keys if j in key]\n",
    "        for k in subset_dict:\n",
    "            summation+=(dictionary[k]/total_sum)\n",
    "    probabilities.append(summation)\n",
    "\n",
    "res = '#'.join(map(str, keys))\n",
    "keys = res.split('#')\n",
    "number = preprocessing.LabelEncoder()\n",
    "dumm = number.fit_transform(keys)\n",
    "\n",
    "x = np.array(dumm)\n",
    "y = np.array(values)\n",
    "\n",
    "plt.scatter(x, y)\n",
    "plt.show()\n",
    "\n",
    "print(\"The first whiteList domain and its probability\")\n",
    "print(whiteList['Domain'].iloc[0],\" \",probabilities[0])"
   ]
  },
  {
   "cell_type": "code",
   "execution_count": 7,
   "metadata": {},
   "outputs": [
    {
     "name": "stdout",
     "output_type": "stream",
     "text": [
      "[(('ne', 'et'), 526), (('.n', 'ne'), 475), (('ve', 'er'), 446), (('se', 'er'), 445), (('er', 'rv'), 442)]\n"
     ]
    },
    {
     "data": {
      "image/png": "[encoded data removed]",
      "text/plain": [
       "<Figure size 432x288 with 1 Axes>"
      ]
     },
     "metadata": {
      "needs_background": "light"
     },
     "output_type": "display_data"
    },
    {
     "name": "stdout",
     "output_type": "stream",
     "text": [
      "The first DGA domain and its probability\n",
      "mtae448c7100586.mm.ks.ks.cox.net   0.4131992457573854\n"
     ]
    }
   ],
   "source": [
    "\n",
    "#FOR DOMAINLIST\n",
    "tokens = domainList[:1000]\n",
    "dictionary={}\n",
    "probList=[]\n",
    "for i in tokens:\n",
    "    dumm = [i[j:j+2] for j in range(len(i)-1)]\n",
    "    probList.append(dumm)\n",
    "    bgs = ngrams(dumm,2)\n",
    "    frequencies = collections.Counter(bgs)\n",
    "    for j in frequencies:\n",
    "        if j not in dictionary:\n",
    "            dictionary[j]=frequencies[j]\n",
    "        else:\n",
    "            dictionary[j]+=frequencies[j]\n",
    "            \n",
    "print(collections.Counter(dictionary).most_common(5))\n",
    "\n",
    "keys = list(dictionary.keys())\n",
    "values = list(dictionary.values())\n",
    "\n",
    "total_sum = sum(dictionary.values())\n",
    "probabilities=[]\n",
    "for i in probList:\n",
    "    summation=0\n",
    "    for j in i:\n",
    "        subset_dict = [key for key in keys if j in key]\n",
    "        for k in subset_dict:\n",
    "            summation+=(dictionary[k]/total_sum)\n",
    "    probabilities.append(summation)\n",
    "\n",
    "res = '#'.join(map(str, keys))\n",
    "keys = res.split('#')\n",
    "number = preprocessing.LabelEncoder()\n",
    "dumm = number.fit_transform(keys)\n",
    "\n",
    "x = np.array(dumm)\n",
    "y = np.array(values)\n",
    "\n",
    "plt.scatter(x, y)\n",
    "plt.show()\n",
    "\n",
    "print(\"The first DGA domain and its probability\")\n",
    "print(domainList[0],\" \",probabilities[0])"
   ]
  },
  {
   "cell_type": "code",
   "execution_count": 8,
   "metadata": {},
   "outputs": [
    {
     "name": "stdout",
     "output_type": "stream",
     "text": [
      "The count of non-benign domains is 367\n",
      "The count of benign domains is 633\n"
     ]
    }
   ],
   "source": [
    "#2. k-means clustering\n",
    "\n",
    "domainsList = domainList[:1000]\n",
    "clustList = number.fit_transform(domainsList)\n",
    "trainList=[]\n",
    "for i in range(len(clustList)):\n",
    "    trainList.append([clustList[i],probabilities[i]])\n",
    "training_set = np.array(trainList)\n",
    "\n",
    "kmeans = KMeans(n_clusters=2,max_iter=300)\n",
    "kmeans.fit(training_set)\n",
    "labels = kmeans.labels_\n",
    "labels=list(labels)\n",
    "\n",
    "print(\"The count of non-benign domains is\",labels.count(0))\n",
    "print(\"The count of benign domains is\",labels.count(1))\n",
    "\n",
    "filteredOutput=[]\n",
    "sideOutput=[]\n",
    "for i in range(len(labels)):\n",
    "    if labels[i] == 0:\n",
    "        filteredOutput.append(domainList[i])\n",
    "        sideOutput.append(dataList[i][0])"
   ]
  },
  {
   "cell_type": "code",
   "execution_count": 9,
   "metadata": {},
   "outputs": [
    {
     "name": "stdout",
     "output_type": "stream",
     "text": [
      "[ 0  0  1  2 -1 -1 -1 -1  3  4  5  6  7  8  7  7 -1  9  6  6 -1 -1  6  6\n",
      " -1 10 10 -1 -1 -1 -1 -1 -1 -1  2  1 -1 -1 -1 -1 -1 11 -1 -1 12 13 -1 14\n",
      " 13 13 14 13 14 13 14 15  6 -1 16 17 18 19 20  1 21  1  1 21 21 -1 17  4\n",
      "  3 -1 -1 18 17 19 20 -1 -1 -1 22 23 22 23 23 23 -1 22 23 22 23 23 23 24\n",
      " 25  7  8  7  7 26 27 26 27 26 27 26 27 26 27 26 27 26 27 26 27 -1 15 -1\n",
      " -1 -1 -1 -1 -1 -1 -1 -1  5 28 28  5 29 30 31 31 30 29 29 31 30 31 30 29\n",
      " -1 -1 -1 -1 -1  6 -1 32 33 34 35 33 34 35 11 -1 -1  6 -1 36 37 38 36 37\n",
      " 39 40 41 -1 -1 -1 -1 -1 -1  6 -1 13 14 38 38 17 13  2  1 42 42  6 32 43\n",
      " 44 45 46 47 43 44 44 45 45 46 46 47 47 43 44 45 46 47 43 44 44 45 45 46\n",
      " 46 47 47 -1 -1 -1 -1 48 49 48 49 48 49 48 49 48 49 48 49 48 49 48 49 50\n",
      " 51 52  9  9 51 52 50 51 51 53 54 53 54 53 54 53 54  6 24 25 24 25 24 25\n",
      " 24 25 24 25 24 25 -1 -1 -1 -1 -1 -1 -1 16 -1  0 -1 -1 -1 -1 -1  6 -1 55\n",
      " 56 57 55 56 57 58 59  3 60 58 59  3 60 61 55 57 61 55 57 61 55 56 61 55\n",
      " 56 55 56 57 55 56 57 58 59  3 60 58 59  3 60 61 55 57 61 55 57 61 55 56\n",
      " 61 55 56 62 63 62 63 63 62 63 62 62 63 62 63 63 62 62 63 39 40 41 12 -1\n",
      " 17 -1 -1 60 -1 -1 -1]\n",
      "\n",
      "The number of unique clusters  - 64\n",
      "The number of noise values(-1) - 81\n"
     ]
    },
    {
     "data": {
      "image/png": "[encoded data removed]",
      "text/plain": [
       "<Figure size 432x288 with 1 Axes>"
      ]
     },
     "metadata": {
      "needs_background": "light"
     },
     "output_type": "display_data"
    }
   ],
   "source": [
    "#DOMAIN CLUSTERING\n",
    "\n",
    "list1 = number.fit_transform(sideOutput)\n",
    "list2 = number.fit_transform(filteredOutput)\n",
    "\n",
    "inp = pd.DataFrame(list(zip(list1,list2)),columns=['Users','Domain'])\n",
    "scaler = StandardScaler()\n",
    "X_scaled = scaler.fit_transform(inp)\n",
    "X_normalized = normalize(X_scaled) \n",
    "X_normalized = pd.DataFrame(X_normalized, columns=['Users','Domain'])\n",
    "\n",
    "db_default = DBSCAN(eps = 0.00375, min_samples = 2).fit(X_normalized)\n",
    "new_labels = db_default.labels_\n",
    "\n",
    "print(new_labels)\n",
    "new_labels = list(new_labels)\n",
    "print(\"\\nThe number of unique clusters  -\",(len(collections.Counter(new_labels).keys())-1))\n",
    "print(\"The number of noise values(-1) -\",new_labels.count(-1))\n",
    "\n",
    "\n",
    "plt.scatter(X_normalized['Users'], X_normalized['Domain'], c=new_labels)  \n",
    "plt.show()"
   ]
  },
  {
   "cell_type": "code",
   "execution_count": 10,
   "metadata": {},
   "outputs": [
    {
     "name": "stdout",
     "output_type": "stream",
     "text": [
      "The list of clusters are [0, 1, 2, 3, 4, 5, 6, 7, 8, 9, 10, 11, 12, 13, 14, 15, 16, 17, 18, 19, 20, 21, 22, 23, 24, 25, 26, 27, 28, 29, 30, 31, 32, 33, 34, 35, 36, 37, 38, 39, 40, 41, 42, 43, 44, 45, 46, 47, 48, 49, 50, 51, 52, 53, 54, 55, 56, 57, 58, 59, 60, 61, 62, 63]\n"
     ]
    }
   ],
   "source": [
    "new_dictionary={}\n",
    "for i in range(len(new_labels)):\n",
    "    if new_labels[i]!=-1:\n",
    "        if new_labels[i] not in new_dictionary:\n",
    "            new_dictionary[new_labels[i]] = [[sideOutput[i],filteredOutput[i]]]\n",
    "        else:\n",
    "            new_dictionary[new_labels[i]].append([sideOutput[i],filteredOutput[i]])\n",
    "\n",
    "print(\"The list of clusters are \",end=\"\")\n",
    "print(list(new_dictionary.keys()))"
   ]
  },
  {
   "cell_type": "code",
   "execution_count": 124,
   "metadata": {
    "scrolled": false
   },
   "outputs": [
    {
     "name": "stdout",
     "output_type": "stream",
     "text": [
      "[[86400, 'ns2.golden.net'], [172800, 'ns2.tpgi.com.au'], [172800, 'ns2.tpgi.com.au']]\n",
      "0.25001079992238595\n"
     ]
    }
   ],
   "source": [
    "#COLLABORATIVE FILTERING\n",
    "\n",
    "def fast_similarity(ratings, kind='users'):\n",
    "    epsilon=1e-9\n",
    "    if kind == 'users':\n",
    "        sim = ratings.dot(ratings.T) + epsilon\n",
    "    elif kind == 'domain':\n",
    "        sim = ratings.T.dot(ratings) + epsilon\n",
    "    norms = np.array([np.sqrt(np.diagonal(sim))])\n",
    "    return (sim / norms / norms.T)\n",
    "\n",
    "\n",
    "def predict_fast_simple(ratings, similarity, kind='users'):\n",
    "    if kind == 'users':\n",
    "        return similarity.dot(ratings) / np.array([np.abs(similarity).sum(axis=1)]).T\n",
    "    elif kind == 'domain':\n",
    "        return ratings.dot(similarity) / np.array([np.abs(similarity).sum(axis=1)])\n",
    "\n",
    "def get_mse(pred, actual):\n",
    "    pred = pred[actual.nonzero()].flatten()\n",
    "    actual = actual[actual.nonzero()].flatten()\n",
    "    return mean_squared_error(pred, actual)\n",
    "\n",
    "boxing1=[]\n",
    "boxing2=[]\n",
    "\n",
    "for i in range(len(new_dictionary[5])):\n",
    "    boxing1.append(new_dictionary[5][i][0])\n",
    "    boxing2.append(new_dictionary[5][i][1])\n",
    "\n",
    "boxing2 = number.fit_transform(boxing2)\n",
    "temp=[]\n",
    "print(new_dictionary[5])\n",
    "for i in range(len(boxing1)):\n",
    "    temp.append([boxing1[i],boxing2[i]])\n",
    "\n",
    "total = np.array(temp)\n",
    "train, test = train_test_split(total, test_size=0.3)\n",
    "answer = fast_similarity(train,'domain')\n",
    "pred = predict_fast_simple(train,answer,'domain')\n",
    "mse = get_mse(pred,test)\n",
    "print(mse)\n"
   ]
  },
  {
   "cell_type": "code",
   "execution_count": 100,
   "metadata": {},
   "outputs": [],
   "source": [
    "\n",
    "\n",
    "#0.25001079992238595 for 5th dictionary (ONE OF THEM DIFFERS)\n",
    "#2.4999986835863565e-10 for 7th dictionary (ALL of them are similar)\n",
    "#3.3333331587354895e-10 for 14th dictionary (ALL of them are similar)"
   ]
  },
  {
   "cell_type": "code",
   "execution_count": null,
   "metadata": {},
   "outputs": [],
   "source": []
  }
 ],
 "metadata": {
  "kernelspec": {
   "display_name": "Python 3",
   "language": "python",
   "name": "python3"
  },
  "language_info": {
   "codemirror_mode": {
    "name": "ipython",
    "version": 3
   },
   "file_extension": ".py",
   "mimetype": "text/x-python",
   "name": "python",
   "nbconvert_exporter": "python",
   "pygments_lexer": "ipython3",
   "version": "3.8.3"
  }
 },
 "nbformat": 4,
 "nbformat_minor": 4
}
